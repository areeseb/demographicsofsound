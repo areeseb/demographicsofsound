{
  "nbformat": 4,
  "nbformat_minor": 0,
  "metadata": {
    "colab": {
      "provenance": [],
      "collapsed_sections": [
        "xiOKcJoW9_Wq",
        "5EwKJ02bHgmp",
        "Aib2dLwYXIwh"
      ],
      "authorship_tag": "ABX9TyMzaMh3FcM5WvRZptQmRj+D",
      "include_colab_link": true
    },
    "kernelspec": {
      "name": "python3",
      "display_name": "Python 3"
    },
    "language_info": {
      "name": "python"
    }
  },
  "cells": [
    {
      "cell_type": "markdown",
      "metadata": {
        "id": "view-in-github",
        "colab_type": "text"
      },
      "source": [
        "<a href=\"https://colab.research.google.com/github/areeseb/demographicsofsound/blob/main/noise_pollution_regression.ipynb\" target=\"_parent\"><img src=\"https://colab.research.google.com/assets/colab-badge.svg\" alt=\"Open In Colab\"/></a>"
      ]
    },
    {
      "cell_type": "markdown",
      "metadata": {
        "id": "xiOKcJoW9_Wq"
      },
      "source": [
        "# **Import Libraries and Mount Drive**"
      ]
    },
    {
      "cell_type": "code",
      "metadata": {
        "colab": {
          "base_uri": "https://localhost:8080/"
        },
        "id": "FlWwMwdQ-FoR",
        "outputId": "b827698c-0193-4e45-c000-7cf4652fefa7"
      },
      "source": [
        "!pip install geopandas"
      ],
      "execution_count": null,
      "outputs": [
        {
          "output_type": "stream",
          "name": "stdout",
          "text": [
            "Collecting geopandas\n",
            "  Downloading geopandas-0.10.2-py2.py3-none-any.whl (1.0 MB)\n",
            "\u001b[?25l\r\u001b[K     |▎                               | 10 kB 20.2 MB/s eta 0:00:01\r\u001b[K     |▋                               | 20 kB 24.2 MB/s eta 0:00:01\r\u001b[K     |█                               | 30 kB 26.9 MB/s eta 0:00:01\r\u001b[K     |█▎                              | 40 kB 28.0 MB/s eta 0:00:01\r\u001b[K     |█▋                              | 51 kB 21.7 MB/s eta 0:00:01\r\u001b[K     |██                              | 61 kB 21.5 MB/s eta 0:00:01\r\u001b[K     |██▎                             | 71 kB 20.8 MB/s eta 0:00:01\r\u001b[K     |██▌                             | 81 kB 20.7 MB/s eta 0:00:01\r\u001b[K     |██▉                             | 92 kB 22.0 MB/s eta 0:00:01\r\u001b[K     |███▏                            | 102 kB 22.1 MB/s eta 0:00:01\r\u001b[K     |███▌                            | 112 kB 22.1 MB/s eta 0:00:01\r\u001b[K     |███▉                            | 122 kB 22.1 MB/s eta 0:00:01\r\u001b[K     |████▏                           | 133 kB 22.1 MB/s eta 0:00:01\r\u001b[K     |████▌                           | 143 kB 22.1 MB/s eta 0:00:01\r\u001b[K     |████▊                           | 153 kB 22.1 MB/s eta 0:00:01\r\u001b[K     |█████                           | 163 kB 22.1 MB/s eta 0:00:01\r\u001b[K     |█████▍                          | 174 kB 22.1 MB/s eta 0:00:01\r\u001b[K     |█████▊                          | 184 kB 22.1 MB/s eta 0:00:01\r\u001b[K     |██████                          | 194 kB 22.1 MB/s eta 0:00:01\r\u001b[K     |██████▍                         | 204 kB 22.1 MB/s eta 0:00:01\r\u001b[K     |██████▊                         | 215 kB 22.1 MB/s eta 0:00:01\r\u001b[K     |███████                         | 225 kB 22.1 MB/s eta 0:00:01\r\u001b[K     |███████▎                        | 235 kB 22.1 MB/s eta 0:00:01\r\u001b[K     |███████▋                        | 245 kB 22.1 MB/s eta 0:00:01\r\u001b[K     |████████                        | 256 kB 22.1 MB/s eta 0:00:01\r\u001b[K     |████████▎                       | 266 kB 22.1 MB/s eta 0:00:01\r\u001b[K     |████████▋                       | 276 kB 22.1 MB/s eta 0:00:01\r\u001b[K     |█████████                       | 286 kB 22.1 MB/s eta 0:00:01\r\u001b[K     |█████████▏                      | 296 kB 22.1 MB/s eta 0:00:01\r\u001b[K     |█████████▌                      | 307 kB 22.1 MB/s eta 0:00:01\r\u001b[K     |█████████▉                      | 317 kB 22.1 MB/s eta 0:00:01\r\u001b[K     |██████████▏                     | 327 kB 22.1 MB/s eta 0:00:01\r\u001b[K     |██████████▌                     | 337 kB 22.1 MB/s eta 0:00:01\r\u001b[K     |██████████▉                     | 348 kB 22.1 MB/s eta 0:00:01\r\u001b[K     |███████████▏                    | 358 kB 22.1 MB/s eta 0:00:01\r\u001b[K     |███████████▍                    | 368 kB 22.1 MB/s eta 0:00:01\r\u001b[K     |███████████▊                    | 378 kB 22.1 MB/s eta 0:00:01\r\u001b[K     |████████████                    | 389 kB 22.1 MB/s eta 0:00:01\r\u001b[K     |████████████▍                   | 399 kB 22.1 MB/s eta 0:00:01\r\u001b[K     |████████████▊                   | 409 kB 22.1 MB/s eta 0:00:01\r\u001b[K     |█████████████                   | 419 kB 22.1 MB/s eta 0:00:01\r\u001b[K     |█████████████▍                  | 430 kB 22.1 MB/s eta 0:00:01\r\u001b[K     |█████████████▋                  | 440 kB 22.1 MB/s eta 0:00:01\r\u001b[K     |██████████████                  | 450 kB 22.1 MB/s eta 0:00:01\r\u001b[K     |██████████████▎                 | 460 kB 22.1 MB/s eta 0:00:01\r\u001b[K     |██████████████▋                 | 471 kB 22.1 MB/s eta 0:00:01\r\u001b[K     |███████████████                 | 481 kB 22.1 MB/s eta 0:00:01\r\u001b[K     |███████████████▎                | 491 kB 22.1 MB/s eta 0:00:01\r\u001b[K     |███████████████▋                | 501 kB 22.1 MB/s eta 0:00:01\r\u001b[K     |███████████████▉                | 512 kB 22.1 MB/s eta 0:00:01\r\u001b[K     |████████████████▏               | 522 kB 22.1 MB/s eta 0:00:01\r\u001b[K     |████████████████▌               | 532 kB 22.1 MB/s eta 0:00:01\r\u001b[K     |████████████████▉               | 542 kB 22.1 MB/s eta 0:00:01\r\u001b[K     |█████████████████▏              | 552 kB 22.1 MB/s eta 0:00:01\r\u001b[K     |█████████████████▌              | 563 kB 22.1 MB/s eta 0:00:01\r\u001b[K     |█████████████████▉              | 573 kB 22.1 MB/s eta 0:00:01\r\u001b[K     |██████████████████              | 583 kB 22.1 MB/s eta 0:00:01\r\u001b[K     |██████████████████▍             | 593 kB 22.1 MB/s eta 0:00:01\r\u001b[K     |██████████████████▊             | 604 kB 22.1 MB/s eta 0:00:01\r\u001b[K     |███████████████████             | 614 kB 22.1 MB/s eta 0:00:01\r\u001b[K     |███████████████████▍            | 624 kB 22.1 MB/s eta 0:00:01\r\u001b[K     |███████████████████▊            | 634 kB 22.1 MB/s eta 0:00:01\r\u001b[K     |████████████████████            | 645 kB 22.1 MB/s eta 0:00:01\r\u001b[K     |████████████████████▎           | 655 kB 22.1 MB/s eta 0:00:01\r\u001b[K     |████████████████████▋           | 665 kB 22.1 MB/s eta 0:00:01\r\u001b[K     |█████████████████████           | 675 kB 22.1 MB/s eta 0:00:01\r\u001b[K     |█████████████████████▎          | 686 kB 22.1 MB/s eta 0:00:01\r\u001b[K     |█████████████████████▋          | 696 kB 22.1 MB/s eta 0:00:01\r\u001b[K     |██████████████████████          | 706 kB 22.1 MB/s eta 0:00:01\r\u001b[K     |██████████████████████▎         | 716 kB 22.1 MB/s eta 0:00:01\r\u001b[K     |██████████████████████▋         | 727 kB 22.1 MB/s eta 0:00:01\r\u001b[K     |██████████████████████▉         | 737 kB 22.1 MB/s eta 0:00:01\r\u001b[K     |███████████████████████▏        | 747 kB 22.1 MB/s eta 0:00:01\r\u001b[K     |███████████████████████▌        | 757 kB 22.1 MB/s eta 0:00:01\r\u001b[K     |███████████████████████▉        | 768 kB 22.1 MB/s eta 0:00:01\r\u001b[K     |████████████████████████▏       | 778 kB 22.1 MB/s eta 0:00:01\r\u001b[K     |████████████████████████▌       | 788 kB 22.1 MB/s eta 0:00:01\r\u001b[K     |████████████████████████▉       | 798 kB 22.1 MB/s eta 0:00:01\r\u001b[K     |█████████████████████████       | 808 kB 22.1 MB/s eta 0:00:01\r\u001b[K     |█████████████████████████▍      | 819 kB 22.1 MB/s eta 0:00:01\r\u001b[K     |█████████████████████████▊      | 829 kB 22.1 MB/s eta 0:00:01\r\u001b[K     |██████████████████████████      | 839 kB 22.1 MB/s eta 0:00:01\r\u001b[K     |██████████████████████████▍     | 849 kB 22.1 MB/s eta 0:00:01\r\u001b[K     |██████████████████████████▊     | 860 kB 22.1 MB/s eta 0:00:01\r\u001b[K     |███████████████████████████     | 870 kB 22.1 MB/s eta 0:00:01\r\u001b[K     |███████████████████████████▎    | 880 kB 22.1 MB/s eta 0:00:01\r\u001b[K     |███████████████████████████▋    | 890 kB 22.1 MB/s eta 0:00:01\r\u001b[K     |████████████████████████████    | 901 kB 22.1 MB/s eta 0:00:01\r\u001b[K     |████████████████████████████▎   | 911 kB 22.1 MB/s eta 0:00:01\r\u001b[K     |████████████████████████████▋   | 921 kB 22.1 MB/s eta 0:00:01\r\u001b[K     |█████████████████████████████   | 931 kB 22.1 MB/s eta 0:00:01\r\u001b[K     |█████████████████████████████▎  | 942 kB 22.1 MB/s eta 0:00:01\r\u001b[K     |█████████████████████████████▌  | 952 kB 22.1 MB/s eta 0:00:01\r\u001b[K     |█████████████████████████████▉  | 962 kB 22.1 MB/s eta 0:00:01\r\u001b[K     |██████████████████████████████▏ | 972 kB 22.1 MB/s eta 0:00:01\r\u001b[K     |██████████████████████████████▌ | 983 kB 22.1 MB/s eta 0:00:01\r\u001b[K     |██████████████████████████████▉ | 993 kB 22.1 MB/s eta 0:00:01\r\u001b[K     |███████████████████████████████▏| 1.0 MB 22.1 MB/s eta 0:00:01\r\u001b[K     |███████████████████████████████▌| 1.0 MB 22.1 MB/s eta 0:00:01\r\u001b[K     |███████████████████████████████▊| 1.0 MB 22.1 MB/s eta 0:00:01\r\u001b[K     |████████████████████████████████| 1.0 MB 22.1 MB/s \n",
            "\u001b[?25hRequirement already satisfied: shapely>=1.6 in /usr/local/lib/python3.7/dist-packages (from geopandas) (1.8.0)\n",
            "Collecting pyproj>=2.2.0\n",
            "  Downloading pyproj-3.2.1-cp37-cp37m-manylinux2010_x86_64.whl (6.3 MB)\n",
            "\u001b[K     |████████████████████████████████| 6.3 MB 35.9 MB/s \n",
            "\u001b[?25hCollecting fiona>=1.8\n",
            "  Downloading Fiona-1.8.20-cp37-cp37m-manylinux1_x86_64.whl (15.4 MB)\n",
            "\u001b[K     |████████████████████████████████| 15.4 MB 41.8 MB/s \n",
            "\u001b[?25hRequirement already satisfied: pandas>=0.25.0 in /usr/local/lib/python3.7/dist-packages (from geopandas) (1.1.5)\n",
            "Collecting munch\n",
            "  Downloading munch-2.5.0-py2.py3-none-any.whl (10 kB)\n",
            "Requirement already satisfied: click>=4.0 in /usr/local/lib/python3.7/dist-packages (from fiona>=1.8->geopandas) (7.1.2)\n",
            "Collecting click-plugins>=1.0\n",
            "  Downloading click_plugins-1.1.1-py2.py3-none-any.whl (7.5 kB)\n",
            "Requirement already satisfied: setuptools in /usr/local/lib/python3.7/dist-packages (from fiona>=1.8->geopandas) (57.4.0)\n",
            "Requirement already satisfied: six>=1.7 in /usr/local/lib/python3.7/dist-packages (from fiona>=1.8->geopandas) (1.15.0)\n",
            "Requirement already satisfied: certifi in /usr/local/lib/python3.7/dist-packages (from fiona>=1.8->geopandas) (2021.10.8)\n",
            "Collecting cligj>=0.5\n",
            "  Downloading cligj-0.7.2-py3-none-any.whl (7.1 kB)\n",
            "Requirement already satisfied: attrs>=17 in /usr/local/lib/python3.7/dist-packages (from fiona>=1.8->geopandas) (21.2.0)\n",
            "Requirement already satisfied: pytz>=2017.2 in /usr/local/lib/python3.7/dist-packages (from pandas>=0.25.0->geopandas) (2018.9)\n",
            "Requirement already satisfied: numpy>=1.15.4 in /usr/local/lib/python3.7/dist-packages (from pandas>=0.25.0->geopandas) (1.19.5)\n",
            "Requirement already satisfied: python-dateutil>=2.7.3 in /usr/local/lib/python3.7/dist-packages (from pandas>=0.25.0->geopandas) (2.8.2)\n",
            "Installing collected packages: munch, cligj, click-plugins, pyproj, fiona, geopandas\n",
            "Successfully installed click-plugins-1.1.1 cligj-0.7.2 fiona-1.8.20 geopandas-0.10.2 munch-2.5.0 pyproj-3.2.1\n"
          ]
        }
      ]
    },
    {
      "cell_type": "code",
      "metadata": {
        "colab": {
          "base_uri": "https://localhost:8080/"
        },
        "id": "GY6gacDFAMFB",
        "outputId": "1b5899f3-d4e2-4644-c762-907f4a3d2edc"
      },
      "source": [
        "!pip install libpysal"
      ],
      "execution_count": null,
      "outputs": [
        {
          "output_type": "stream",
          "name": "stdout",
          "text": [
            "Collecting libpysal\n",
            "  Downloading libpysal-4.5.1-py3-none-any.whl (2.4 MB)\n",
            "\u001b[?25l\r\u001b[K     |▏                               | 10 kB 26.3 MB/s eta 0:00:01\r\u001b[K     |▎                               | 20 kB 26.7 MB/s eta 0:00:01\r\u001b[K     |▍                               | 30 kB 29.2 MB/s eta 0:00:01\r\u001b[K     |▌                               | 40 kB 32.2 MB/s eta 0:00:01\r\u001b[K     |▊                               | 51 kB 34.8 MB/s eta 0:00:01\r\u001b[K     |▉                               | 61 kB 32.0 MB/s eta 0:00:01\r\u001b[K     |█                               | 71 kB 30.1 MB/s eta 0:00:01\r\u001b[K     |█                               | 81 kB 31.6 MB/s eta 0:00:01\r\u001b[K     |█▎                              | 92 kB 32.2 MB/s eta 0:00:01\r\u001b[K     |█▍                              | 102 kB 34.1 MB/s eta 0:00:01\r\u001b[K     |█▌                              | 112 kB 34.1 MB/s eta 0:00:01\r\u001b[K     |█▋                              | 122 kB 34.1 MB/s eta 0:00:01\r\u001b[K     |█▉                              | 133 kB 34.1 MB/s eta 0:00:01\r\u001b[K     |██                              | 143 kB 34.1 MB/s eta 0:00:01\r\u001b[K     |██                              | 153 kB 34.1 MB/s eta 0:00:01\r\u001b[K     |██▏                             | 163 kB 34.1 MB/s eta 0:00:01\r\u001b[K     |██▍                             | 174 kB 34.1 MB/s eta 0:00:01\r\u001b[K     |██▌                             | 184 kB 34.1 MB/s eta 0:00:01\r\u001b[K     |██▋                             | 194 kB 34.1 MB/s eta 0:00:01\r\u001b[K     |██▊                             | 204 kB 34.1 MB/s eta 0:00:01\r\u001b[K     |███                             | 215 kB 34.1 MB/s eta 0:00:01\r\u001b[K     |███                             | 225 kB 34.1 MB/s eta 0:00:01\r\u001b[K     |███▏                            | 235 kB 34.1 MB/s eta 0:00:01\r\u001b[K     |███▎                            | 245 kB 34.1 MB/s eta 0:00:01\r\u001b[K     |███▍                            | 256 kB 34.1 MB/s eta 0:00:01\r\u001b[K     |███▋                            | 266 kB 34.1 MB/s eta 0:00:01\r\u001b[K     |███▊                            | 276 kB 34.1 MB/s eta 0:00:01\r\u001b[K     |███▉                            | 286 kB 34.1 MB/s eta 0:00:01\r\u001b[K     |████                            | 296 kB 34.1 MB/s eta 0:00:01\r\u001b[K     |████▏                           | 307 kB 34.1 MB/s eta 0:00:01\r\u001b[K     |████▎                           | 317 kB 34.1 MB/s eta 0:00:01\r\u001b[K     |████▍                           | 327 kB 34.1 MB/s eta 0:00:01\r\u001b[K     |████▌                           | 337 kB 34.1 MB/s eta 0:00:01\r\u001b[K     |████▊                           | 348 kB 34.1 MB/s eta 0:00:01\r\u001b[K     |████▉                           | 358 kB 34.1 MB/s eta 0:00:01\r\u001b[K     |█████                           | 368 kB 34.1 MB/s eta 0:00:01\r\u001b[K     |█████                           | 378 kB 34.1 MB/s eta 0:00:01\r\u001b[K     |█████▎                          | 389 kB 34.1 MB/s eta 0:00:01\r\u001b[K     |█████▍                          | 399 kB 34.1 MB/s eta 0:00:01\r\u001b[K     |█████▌                          | 409 kB 34.1 MB/s eta 0:00:01\r\u001b[K     |█████▋                          | 419 kB 34.1 MB/s eta 0:00:01\r\u001b[K     |█████▉                          | 430 kB 34.1 MB/s eta 0:00:01\r\u001b[K     |██████                          | 440 kB 34.1 MB/s eta 0:00:01\r\u001b[K     |██████                          | 450 kB 34.1 MB/s eta 0:00:01\r\u001b[K     |██████▏                         | 460 kB 34.1 MB/s eta 0:00:01\r\u001b[K     |██████▎                         | 471 kB 34.1 MB/s eta 0:00:01\r\u001b[K     |██████▌                         | 481 kB 34.1 MB/s eta 0:00:01\r\u001b[K     |██████▋                         | 491 kB 34.1 MB/s eta 0:00:01\r\u001b[K     |██████▊                         | 501 kB 34.1 MB/s eta 0:00:01\r\u001b[K     |██████▉                         | 512 kB 34.1 MB/s eta 0:00:01\r\u001b[K     |███████                         | 522 kB 34.1 MB/s eta 0:00:01\r\u001b[K     |███████▏                        | 532 kB 34.1 MB/s eta 0:00:01\r\u001b[K     |███████▎                        | 542 kB 34.1 MB/s eta 0:00:01\r\u001b[K     |███████▍                        | 552 kB 34.1 MB/s eta 0:00:01\r\u001b[K     |███████▋                        | 563 kB 34.1 MB/s eta 0:00:01\r\u001b[K     |███████▊                        | 573 kB 34.1 MB/s eta 0:00:01\r\u001b[K     |███████▉                        | 583 kB 34.1 MB/s eta 0:00:01\r\u001b[K     |████████                        | 593 kB 34.1 MB/s eta 0:00:01\r\u001b[K     |████████▏                       | 604 kB 34.1 MB/s eta 0:00:01\r\u001b[K     |████████▎                       | 614 kB 34.1 MB/s eta 0:00:01\r\u001b[K     |████████▍                       | 624 kB 34.1 MB/s eta 0:00:01\r\u001b[K     |████████▌                       | 634 kB 34.1 MB/s eta 0:00:01\r\u001b[K     |████████▊                       | 645 kB 34.1 MB/s eta 0:00:01\r\u001b[K     |████████▉                       | 655 kB 34.1 MB/s eta 0:00:01\r\u001b[K     |█████████                       | 665 kB 34.1 MB/s eta 0:00:01\r\u001b[K     |█████████                       | 675 kB 34.1 MB/s eta 0:00:01\r\u001b[K     |█████████▏                      | 686 kB 34.1 MB/s eta 0:00:01\r\u001b[K     |█████████▍                      | 696 kB 34.1 MB/s eta 0:00:01\r\u001b[K     |█████████▌                      | 706 kB 34.1 MB/s eta 0:00:01\r\u001b[K     |█████████▋                      | 716 kB 34.1 MB/s eta 0:00:01\r\u001b[K     |█████████▊                      | 727 kB 34.1 MB/s eta 0:00:01\r\u001b[K     |██████████                      | 737 kB 34.1 MB/s eta 0:00:01\r\u001b[K     |██████████                      | 747 kB 34.1 MB/s eta 0:00:01\r\u001b[K     |██████████▏                     | 757 kB 34.1 MB/s eta 0:00:01\r\u001b[K     |██████████▎                     | 768 kB 34.1 MB/s eta 0:00:01\r\u001b[K     |██████████▌                     | 778 kB 34.1 MB/s eta 0:00:01\r\u001b[K     |██████████▋                     | 788 kB 34.1 MB/s eta 0:00:01\r\u001b[K     |██████████▊                     | 798 kB 34.1 MB/s eta 0:00:01\r\u001b[K     |██████████▉                     | 808 kB 34.1 MB/s eta 0:00:01\r\u001b[K     |███████████                     | 819 kB 34.1 MB/s eta 0:00:01\r\u001b[K     |███████████▏                    | 829 kB 34.1 MB/s eta 0:00:01\r\u001b[K     |███████████▎                    | 839 kB 34.1 MB/s eta 0:00:01\r\u001b[K     |███████████▍                    | 849 kB 34.1 MB/s eta 0:00:01\r\u001b[K     |███████████▋                    | 860 kB 34.1 MB/s eta 0:00:01\r\u001b[K     |███████████▊                    | 870 kB 34.1 MB/s eta 0:00:01\r\u001b[K     |███████████▉                    | 880 kB 34.1 MB/s eta 0:00:01\r\u001b[K     |████████████                    | 890 kB 34.1 MB/s eta 0:00:01\r\u001b[K     |████████████▏                   | 901 kB 34.1 MB/s eta 0:00:01\r\u001b[K     |████████████▎                   | 911 kB 34.1 MB/s eta 0:00:01\r\u001b[K     |████████████▍                   | 921 kB 34.1 MB/s eta 0:00:01\r\u001b[K     |████████████▌                   | 931 kB 34.1 MB/s eta 0:00:01\r\u001b[K     |████████████▋                   | 942 kB 34.1 MB/s eta 0:00:01\r\u001b[K     |████████████▉                   | 952 kB 34.1 MB/s eta 0:00:01\r\u001b[K     |█████████████                   | 962 kB 34.1 MB/s eta 0:00:01\r\u001b[K     |█████████████                   | 972 kB 34.1 MB/s eta 0:00:01\r\u001b[K     |█████████████▏                  | 983 kB 34.1 MB/s eta 0:00:01\r\u001b[K     |█████████████▍                  | 993 kB 34.1 MB/s eta 0:00:01\r\u001b[K     |█████████████▌                  | 1.0 MB 34.1 MB/s eta 0:00:01\r\u001b[K     |█████████████▋                  | 1.0 MB 34.1 MB/s eta 0:00:01\r\u001b[K     |█████████████▊                  | 1.0 MB 34.1 MB/s eta 0:00:01\r\u001b[K     |██████████████                  | 1.0 MB 34.1 MB/s eta 0:00:01\r\u001b[K     |██████████████                  | 1.0 MB 34.1 MB/s eta 0:00:01\r\u001b[K     |██████████████▏                 | 1.1 MB 34.1 MB/s eta 0:00:01\r\u001b[K     |██████████████▎                 | 1.1 MB 34.1 MB/s eta 0:00:01\r\u001b[K     |██████████████▌                 | 1.1 MB 34.1 MB/s eta 0:00:01\r\u001b[K     |██████████████▋                 | 1.1 MB 34.1 MB/s eta 0:00:01\r\u001b[K     |██████████████▊                 | 1.1 MB 34.1 MB/s eta 0:00:01\r\u001b[K     |██████████████▉                 | 1.1 MB 34.1 MB/s eta 0:00:01\r\u001b[K     |███████████████                 | 1.1 MB 34.1 MB/s eta 0:00:01\r\u001b[K     |███████████████▏                | 1.1 MB 34.1 MB/s eta 0:00:01\r\u001b[K     |███████████████▎                | 1.1 MB 34.1 MB/s eta 0:00:01\r\u001b[K     |███████████████▍                | 1.1 MB 34.1 MB/s eta 0:00:01\r\u001b[K     |███████████████▌                | 1.2 MB 34.1 MB/s eta 0:00:01\r\u001b[K     |███████████████▊                | 1.2 MB 34.1 MB/s eta 0:00:01\r\u001b[K     |███████████████▉                | 1.2 MB 34.1 MB/s eta 0:00:01\r\u001b[K     |████████████████                | 1.2 MB 34.1 MB/s eta 0:00:01\r\u001b[K     |████████████████                | 1.2 MB 34.1 MB/s eta 0:00:01\r\u001b[K     |████████████████▎               | 1.2 MB 34.1 MB/s eta 0:00:01\r\u001b[K     |████████████████▍               | 1.2 MB 34.1 MB/s eta 0:00:01\r\u001b[K     |████████████████▌               | 1.2 MB 34.1 MB/s eta 0:00:01\r\u001b[K     |████████████████▋               | 1.2 MB 34.1 MB/s eta 0:00:01\r\u001b[K     |████████████████▉               | 1.2 MB 34.1 MB/s eta 0:00:01\r\u001b[K     |█████████████████               | 1.3 MB 34.1 MB/s eta 0:00:01\r\u001b[K     |█████████████████               | 1.3 MB 34.1 MB/s eta 0:00:01\r\u001b[K     |█████████████████▏              | 1.3 MB 34.1 MB/s eta 0:00:01\r\u001b[K     |█████████████████▍              | 1.3 MB 34.1 MB/s eta 0:00:01\r\u001b[K     |█████████████████▌              | 1.3 MB 34.1 MB/s eta 0:00:01\r\u001b[K     |█████████████████▋              | 1.3 MB 34.1 MB/s eta 0:00:01\r\u001b[K     |█████████████████▊              | 1.3 MB 34.1 MB/s eta 0:00:01\r\u001b[K     |██████████████████              | 1.3 MB 34.1 MB/s eta 0:00:01\r\u001b[K     |██████████████████              | 1.3 MB 34.1 MB/s eta 0:00:01\r\u001b[K     |██████████████████▏             | 1.4 MB 34.1 MB/s eta 0:00:01\r\u001b[K     |██████████████████▎             | 1.4 MB 34.1 MB/s eta 0:00:01\r\u001b[K     |██████████████████▍             | 1.4 MB 34.1 MB/s eta 0:00:01\r\u001b[K     |██████████████████▋             | 1.4 MB 34.1 MB/s eta 0:00:01\r\u001b[K     |██████████████████▊             | 1.4 MB 34.1 MB/s eta 0:00:01\r\u001b[K     |██████████████████▉             | 1.4 MB 34.1 MB/s eta 0:00:01\r\u001b[K     |███████████████████             | 1.4 MB 34.1 MB/s eta 0:00:01\r\u001b[K     |███████████████████▏            | 1.4 MB 34.1 MB/s eta 0:00:01\r\u001b[K     |███████████████████▎            | 1.4 MB 34.1 MB/s eta 0:00:01\r\u001b[K     |███████████████████▍            | 1.4 MB 34.1 MB/s eta 0:00:01\r\u001b[K     |███████████████████▌            | 1.5 MB 34.1 MB/s eta 0:00:01\r\u001b[K     |███████████████████▊            | 1.5 MB 34.1 MB/s eta 0:00:01\r\u001b[K     |███████████████████▉            | 1.5 MB 34.1 MB/s eta 0:00:01\r\u001b[K     |████████████████████            | 1.5 MB 34.1 MB/s eta 0:00:01\r\u001b[K     |████████████████████            | 1.5 MB 34.1 MB/s eta 0:00:01\r\u001b[K     |████████████████████▎           | 1.5 MB 34.1 MB/s eta 0:00:01\r\u001b[K     |████████████████████▍           | 1.5 MB 34.1 MB/s eta 0:00:01\r\u001b[K     |████████████████████▌           | 1.5 MB 34.1 MB/s eta 0:00:01\r\u001b[K     |████████████████████▋           | 1.5 MB 34.1 MB/s eta 0:00:01\r\u001b[K     |████████████████████▉           | 1.5 MB 34.1 MB/s eta 0:00:01\r\u001b[K     |█████████████████████           | 1.6 MB 34.1 MB/s eta 0:00:01\r\u001b[K     |█████████████████████           | 1.6 MB 34.1 MB/s eta 0:00:01\r\u001b[K     |█████████████████████▏          | 1.6 MB 34.1 MB/s eta 0:00:01\r\u001b[K     |█████████████████████▍          | 1.6 MB 34.1 MB/s eta 0:00:01\r\u001b[K     |█████████████████████▌          | 1.6 MB 34.1 MB/s eta 0:00:01\r\u001b[K     |█████████████████████▋          | 1.6 MB 34.1 MB/s eta 0:00:01\r\u001b[K     |█████████████████████▊          | 1.6 MB 34.1 MB/s eta 0:00:01\r\u001b[K     |█████████████████████▉          | 1.6 MB 34.1 MB/s eta 0:00:01\r\u001b[K     |██████████████████████          | 1.6 MB 34.1 MB/s eta 0:00:01\r\u001b[K     |██████████████████████▏         | 1.6 MB 34.1 MB/s eta 0:00:01\r\u001b[K     |██████████████████████▎         | 1.7 MB 34.1 MB/s eta 0:00:01\r\u001b[K     |██████████████████████▍         | 1.7 MB 34.1 MB/s eta 0:00:01\r\u001b[K     |██████████████████████▋         | 1.7 MB 34.1 MB/s eta 0:00:01\r\u001b[K     |██████████████████████▊         | 1.7 MB 34.1 MB/s eta 0:00:01\r\u001b[K     |██████████████████████▉         | 1.7 MB 34.1 MB/s eta 0:00:01\r\u001b[K     |███████████████████████         | 1.7 MB 34.1 MB/s eta 0:00:01\r\u001b[K     |███████████████████████▏        | 1.7 MB 34.1 MB/s eta 0:00:01\r\u001b[K     |███████████████████████▎        | 1.7 MB 34.1 MB/s eta 0:00:01\r\u001b[K     |███████████████████████▍        | 1.7 MB 34.1 MB/s eta 0:00:01\r\u001b[K     |███████████████████████▌        | 1.8 MB 34.1 MB/s eta 0:00:01\r\u001b[K     |███████████████████████▊        | 1.8 MB 34.1 MB/s eta 0:00:01\r\u001b[K     |███████████████████████▉        | 1.8 MB 34.1 MB/s eta 0:00:01\r\u001b[K     |████████████████████████        | 1.8 MB 34.1 MB/s eta 0:00:01\r\u001b[K     |████████████████████████        | 1.8 MB 34.1 MB/s eta 0:00:01\r\u001b[K     |████████████████████████▎       | 1.8 MB 34.1 MB/s eta 0:00:01\r\u001b[K     |████████████████████████▍       | 1.8 MB 34.1 MB/s eta 0:00:01\r\u001b[K     |████████████████████████▌       | 1.8 MB 34.1 MB/s eta 0:00:01\r\u001b[K     |████████████████████████▋       | 1.8 MB 34.1 MB/s eta 0:00:01\r\u001b[K     |████████████████████████▊       | 1.8 MB 34.1 MB/s eta 0:00:01\r\u001b[K     |█████████████████████████       | 1.9 MB 34.1 MB/s eta 0:00:01\r\u001b[K     |█████████████████████████       | 1.9 MB 34.1 MB/s eta 0:00:01\r\u001b[K     |█████████████████████████▏      | 1.9 MB 34.1 MB/s eta 0:00:01\r\u001b[K     |█████████████████████████▎      | 1.9 MB 34.1 MB/s eta 0:00:01\r\u001b[K     |█████████████████████████▌      | 1.9 MB 34.1 MB/s eta 0:00:01\r\u001b[K     |█████████████████████████▋      | 1.9 MB 34.1 MB/s eta 0:00:01\r\u001b[K     |█████████████████████████▊      | 1.9 MB 34.1 MB/s eta 0:00:01\r\u001b[K     |█████████████████████████▉      | 1.9 MB 34.1 MB/s eta 0:00:01\r\u001b[K     |██████████████████████████      | 1.9 MB 34.1 MB/s eta 0:00:01\r\u001b[K     |██████████████████████████▏     | 1.9 MB 34.1 MB/s eta 0:00:01\r\u001b[K     |██████████████████████████▎     | 2.0 MB 34.1 MB/s eta 0:00:01\r\u001b[K     |██████████████████████████▍     | 2.0 MB 34.1 MB/s eta 0:00:01\r\u001b[K     |██████████████████████████▋     | 2.0 MB 34.1 MB/s eta 0:00:01\r\u001b[K     |██████████████████████████▊     | 2.0 MB 34.1 MB/s eta 0:00:01\r\u001b[K     |██████████████████████████▉     | 2.0 MB 34.1 MB/s eta 0:00:01\r\u001b[K     |███████████████████████████     | 2.0 MB 34.1 MB/s eta 0:00:01\r\u001b[K     |███████████████████████████▏    | 2.0 MB 34.1 MB/s eta 0:00:01\r\u001b[K     |███████████████████████████▎    | 2.0 MB 34.1 MB/s eta 0:00:01\r\u001b[K     |███████████████████████████▍    | 2.0 MB 34.1 MB/s eta 0:00:01\r\u001b[K     |███████████████████████████▌    | 2.0 MB 34.1 MB/s eta 0:00:01\r\u001b[K     |███████████████████████████▋    | 2.1 MB 34.1 MB/s eta 0:00:01\r\u001b[K     |███████████████████████████▉    | 2.1 MB 34.1 MB/s eta 0:00:01\r\u001b[K     |████████████████████████████    | 2.1 MB 34.1 MB/s eta 0:00:01\r\u001b[K     |████████████████████████████    | 2.1 MB 34.1 MB/s eta 0:00:01\r\u001b[K     |████████████████████████████▏   | 2.1 MB 34.1 MB/s eta 0:00:01\r\u001b[K     |████████████████████████████▍   | 2.1 MB 34.1 MB/s eta 0:00:01\r\u001b[K     |████████████████████████████▌   | 2.1 MB 34.1 MB/s eta 0:00:01\r\u001b[K     |████████████████████████████▋   | 2.1 MB 34.1 MB/s eta 0:00:01\r\u001b[K     |████████████████████████████▊   | 2.1 MB 34.1 MB/s eta 0:00:01\r\u001b[K     |█████████████████████████████   | 2.2 MB 34.1 MB/s eta 0:00:01\r\u001b[K     |█████████████████████████████   | 2.2 MB 34.1 MB/s eta 0:00:01\r\u001b[K     |█████████████████████████████▏  | 2.2 MB 34.1 MB/s eta 0:00:01\r\u001b[K     |█████████████████████████████▎  | 2.2 MB 34.1 MB/s eta 0:00:01\r\u001b[K     |█████████████████████████████▌  | 2.2 MB 34.1 MB/s eta 0:00:01\r\u001b[K     |█████████████████████████████▋  | 2.2 MB 34.1 MB/s eta 0:00:01\r\u001b[K     |█████████████████████████████▊  | 2.2 MB 34.1 MB/s eta 0:00:01\r\u001b[K     |█████████████████████████████▉  | 2.2 MB 34.1 MB/s eta 0:00:01\r\u001b[K     |██████████████████████████████  | 2.2 MB 34.1 MB/s eta 0:00:01\r\u001b[K     |██████████████████████████████▏ | 2.2 MB 34.1 MB/s eta 0:00:01\r\u001b[K     |██████████████████████████████▎ | 2.3 MB 34.1 MB/s eta 0:00:01\r\u001b[K     |██████████████████████████████▍ | 2.3 MB 34.1 MB/s eta 0:00:01\r\u001b[K     |██████████████████████████████▋ | 2.3 MB 34.1 MB/s eta 0:00:01\r\u001b[K     |██████████████████████████████▊ | 2.3 MB 34.1 MB/s eta 0:00:01\r\u001b[K     |██████████████████████████████▉ | 2.3 MB 34.1 MB/s eta 0:00:01\r\u001b[K     |███████████████████████████████ | 2.3 MB 34.1 MB/s eta 0:00:01\r\u001b[K     |███████████████████████████████ | 2.3 MB 34.1 MB/s eta 0:00:01\r\u001b[K     |███████████████████████████████▎| 2.3 MB 34.1 MB/s eta 0:00:01\r\u001b[K     |███████████████████████████████▍| 2.3 MB 34.1 MB/s eta 0:00:01\r\u001b[K     |███████████████████████████████▌| 2.3 MB 34.1 MB/s eta 0:00:01\r\u001b[K     |███████████████████████████████▋| 2.4 MB 34.1 MB/s eta 0:00:01\r\u001b[K     |███████████████████████████████▉| 2.4 MB 34.1 MB/s eta 0:00:01\r\u001b[K     |████████████████████████████████| 2.4 MB 34.1 MB/s eta 0:00:01\r\u001b[K     |████████████████████████████████| 2.4 MB 34.1 MB/s \n",
            "\u001b[?25hRequirement already satisfied: beautifulsoup4 in /usr/local/lib/python3.7/dist-packages (from libpysal) (4.6.3)\n",
            "Requirement already satisfied: pandas in /usr/local/lib/python3.7/dist-packages (from libpysal) (1.1.5)\n",
            "Requirement already satisfied: scipy>=0.11 in /usr/local/lib/python3.7/dist-packages (from libpysal) (1.4.1)\n",
            "Requirement already satisfied: numpy>=1.3 in /usr/local/lib/python3.7/dist-packages (from libpysal) (1.19.5)\n",
            "Requirement already satisfied: jinja2 in /usr/local/lib/python3.7/dist-packages (from libpysal) (2.11.3)\n",
            "Requirement already satisfied: requests in /usr/local/lib/python3.7/dist-packages (from libpysal) (2.23.0)\n",
            "Requirement already satisfied: MarkupSafe>=0.23 in /usr/local/lib/python3.7/dist-packages (from jinja2->libpysal) (2.0.1)\n",
            "Requirement already satisfied: python-dateutil>=2.7.3 in /usr/local/lib/python3.7/dist-packages (from pandas->libpysal) (2.8.2)\n",
            "Requirement already satisfied: pytz>=2017.2 in /usr/local/lib/python3.7/dist-packages (from pandas->libpysal) (2018.9)\n",
            "Requirement already satisfied: six>=1.5 in /usr/local/lib/python3.7/dist-packages (from python-dateutil>=2.7.3->pandas->libpysal) (1.15.0)\n",
            "Requirement already satisfied: chardet<4,>=3.0.2 in /usr/local/lib/python3.7/dist-packages (from requests->libpysal) (3.0.4)\n",
            "Requirement already satisfied: urllib3!=1.25.0,!=1.25.1,<1.26,>=1.21.1 in /usr/local/lib/python3.7/dist-packages (from requests->libpysal) (1.24.3)\n",
            "Requirement already satisfied: idna<3,>=2.5 in /usr/local/lib/python3.7/dist-packages (from requests->libpysal) (2.10)\n",
            "Requirement already satisfied: certifi>=2017.4.17 in /usr/local/lib/python3.7/dist-packages (from requests->libpysal) (2021.10.8)\n",
            "Installing collected packages: libpysal\n",
            "Successfully installed libpysal-4.5.1\n"
          ]
        }
      ]
    },
    {
      "cell_type": "code",
      "metadata": {
        "colab": {
          "base_uri": "https://localhost:8080/"
        },
        "id": "Bfhc1PQtDqEd",
        "outputId": "7f6ac3f4-d15f-4242-bac4-68f08aee598a"
      },
      "source": [
        "!pip install spglm"
      ],
      "execution_count": null,
      "outputs": [
        {
          "output_type": "stream",
          "name": "stdout",
          "text": [
            "Collecting spglm\n",
            "  Downloading spglm-1.0.8.tar.gz (37 kB)\n",
            "Requirement already satisfied: scipy>=0.11 in /usr/local/lib/python3.7/dist-packages (from spglm) (1.4.1)\n",
            "Requirement already satisfied: numpy>=1.3 in /usr/local/lib/python3.7/dist-packages (from spglm) (1.19.5)\n",
            "Requirement already satisfied: libpysal>=4.0.0 in /usr/local/lib/python3.7/dist-packages (from spglm) (4.5.1)\n",
            "Collecting spreg>=1.0.4\n",
            "  Downloading spreg-1.2.4-py3-none-any.whl (209 kB)\n",
            "\u001b[K     |████████████████████████████████| 209 kB 29.6 MB/s \n",
            "\u001b[?25hRequirement already satisfied: requests in /usr/local/lib/python3.7/dist-packages (from libpysal>=4.0.0->spglm) (2.23.0)\n",
            "Requirement already satisfied: beautifulsoup4 in /usr/local/lib/python3.7/dist-packages (from libpysal>=4.0.0->spglm) (4.6.3)\n",
            "Requirement already satisfied: pandas in /usr/local/lib/python3.7/dist-packages (from libpysal>=4.0.0->spglm) (1.1.5)\n",
            "Requirement already satisfied: jinja2 in /usr/local/lib/python3.7/dist-packages (from libpysal>=4.0.0->spglm) (2.11.3)\n",
            "Requirement already satisfied: MarkupSafe>=0.23 in /usr/local/lib/python3.7/dist-packages (from jinja2->libpysal>=4.0.0->spglm) (2.0.1)\n",
            "Requirement already satisfied: pytz>=2017.2 in /usr/local/lib/python3.7/dist-packages (from pandas->libpysal>=4.0.0->spglm) (2018.9)\n",
            "Requirement already satisfied: python-dateutil>=2.7.3 in /usr/local/lib/python3.7/dist-packages (from pandas->libpysal>=4.0.0->spglm) (2.8.2)\n",
            "Requirement already satisfied: six>=1.5 in /usr/local/lib/python3.7/dist-packages (from python-dateutil>=2.7.3->pandas->libpysal>=4.0.0->spglm) (1.15.0)\n",
            "Requirement already satisfied: idna<3,>=2.5 in /usr/local/lib/python3.7/dist-packages (from requests->libpysal>=4.0.0->spglm) (2.10)\n",
            "Requirement already satisfied: urllib3!=1.25.0,!=1.25.1,<1.26,>=1.21.1 in /usr/local/lib/python3.7/dist-packages (from requests->libpysal>=4.0.0->spglm) (1.24.3)\n",
            "Requirement already satisfied: chardet<4,>=3.0.2 in /usr/local/lib/python3.7/dist-packages (from requests->libpysal>=4.0.0->spglm) (3.0.4)\n",
            "Requirement already satisfied: certifi>=2017.4.17 in /usr/local/lib/python3.7/dist-packages (from requests->libpysal>=4.0.0->spglm) (2021.10.8)\n",
            "Building wheels for collected packages: spglm\n",
            "  Building wheel for spglm (setup.py) ... \u001b[?25l\u001b[?25hdone\n",
            "  Created wheel for spglm: filename=spglm-1.0.8-py3-none-any.whl size=38806 sha256=da126576ced16f0b4e79cd5eed402ec26f909992cc734bcf0f0a156f430789b7\n",
            "  Stored in directory: /root/.cache/pip/wheels/29/79/e9/453e3b0d858bed16e097c6e6bbd75e2b966bfcfb21b12790d0\n",
            "Successfully built spglm\n",
            "Installing collected packages: spreg, spglm\n",
            "Successfully installed spglm-1.0.8 spreg-1.2.4\n"
          ]
        }
      ]
    },
    {
      "cell_type": "code",
      "metadata": {
        "colab": {
          "base_uri": "https://localhost:8080/"
        },
        "id": "iYJQkB4rGX7-",
        "outputId": "e1e4b9c3-cc65-41c1-b78f-a50d0a547b37"
      },
      "source": [
        "!pip install mgwr"
      ],
      "execution_count": null,
      "outputs": [
        {
          "output_type": "stream",
          "name": "stdout",
          "text": [
            "Collecting mgwr\n",
            "  Downloading mgwr-2.1.2.tar.gz (41 kB)\n",
            "\u001b[?25l\r\u001b[K     |███████▉                        | 10 kB 25.9 MB/s eta 0:00:01\r\u001b[K     |███████████████▊                | 20 kB 27.7 MB/s eta 0:00:01\r\u001b[K     |███████████████████████▌        | 30 kB 32.0 MB/s eta 0:00:01\r\u001b[K     |███████████████████████████████▍| 40 kB 35.0 MB/s eta 0:00:01\r\u001b[K     |████████████████████████████████| 41 kB 609 kB/s \n",
            "\u001b[?25hRequirement already satisfied: scipy>=0.11 in /usr/local/lib/python3.7/dist-packages (from mgwr) (1.4.1)\n",
            "Requirement already satisfied: numpy>=1.3 in /usr/local/lib/python3.7/dist-packages (from mgwr) (1.19.5)\n",
            "Requirement already satisfied: libpysal>=4.0.0 in /usr/local/lib/python3.7/dist-packages (from mgwr) (4.5.1)\n",
            "Requirement already satisfied: spglm>=1.0.6 in /usr/local/lib/python3.7/dist-packages (from mgwr) (1.0.8)\n",
            "Requirement already satisfied: spreg in /usr/local/lib/python3.7/dist-packages (from mgwr) (1.2.4)\n",
            "Requirement already satisfied: beautifulsoup4 in /usr/local/lib/python3.7/dist-packages (from libpysal>=4.0.0->mgwr) (4.6.3)\n",
            "Requirement already satisfied: requests in /usr/local/lib/python3.7/dist-packages (from libpysal>=4.0.0->mgwr) (2.23.0)\n",
            "Requirement already satisfied: pandas in /usr/local/lib/python3.7/dist-packages (from libpysal>=4.0.0->mgwr) (1.1.5)\n",
            "Requirement already satisfied: jinja2 in /usr/local/lib/python3.7/dist-packages (from libpysal>=4.0.0->mgwr) (2.11.3)\n",
            "Requirement already satisfied: MarkupSafe>=0.23 in /usr/local/lib/python3.7/dist-packages (from jinja2->libpysal>=4.0.0->mgwr) (2.0.1)\n",
            "Requirement already satisfied: pytz>=2017.2 in /usr/local/lib/python3.7/dist-packages (from pandas->libpysal>=4.0.0->mgwr) (2018.9)\n",
            "Requirement already satisfied: python-dateutil>=2.7.3 in /usr/local/lib/python3.7/dist-packages (from pandas->libpysal>=4.0.0->mgwr) (2.8.2)\n",
            "Requirement already satisfied: six>=1.5 in /usr/local/lib/python3.7/dist-packages (from python-dateutil>=2.7.3->pandas->libpysal>=4.0.0->mgwr) (1.15.0)\n",
            "Requirement already satisfied: certifi>=2017.4.17 in /usr/local/lib/python3.7/dist-packages (from requests->libpysal>=4.0.0->mgwr) (2021.10.8)\n",
            "Requirement already satisfied: urllib3!=1.25.0,!=1.25.1,<1.26,>=1.21.1 in /usr/local/lib/python3.7/dist-packages (from requests->libpysal>=4.0.0->mgwr) (1.24.3)\n",
            "Requirement already satisfied: idna<3,>=2.5 in /usr/local/lib/python3.7/dist-packages (from requests->libpysal>=4.0.0->mgwr) (2.10)\n",
            "Requirement already satisfied: chardet<4,>=3.0.2 in /usr/local/lib/python3.7/dist-packages (from requests->libpysal>=4.0.0->mgwr) (3.0.4)\n",
            "Building wheels for collected packages: mgwr\n",
            "  Building wheel for mgwr (setup.py) ... \u001b[?25l\u001b[?25hdone\n",
            "  Created wheel for mgwr: filename=mgwr-2.1.2-py3-none-any.whl size=46386 sha256=e1812e8726e40953d44174cb12272d2b7d342ada7e5d74868c076035911a2509\n",
            "  Stored in directory: /root/.cache/pip/wheels/e8/55/57/c1bf993ab0ab4b9885ac1fdf7f9f960397355cf889b77a3e4b\n",
            "Successfully built mgwr\n",
            "Installing collected packages: mgwr\n",
            "Successfully installed mgwr-2.1.2\n"
          ]
        }
      ]
    },
    {
      "cell_type": "code",
      "metadata": {
        "id": "J0RdlyGL9s0-"
      },
      "source": [
        "import pandas as pd\n",
        "import geopandas as gpd\n",
        "import numpy as np\n",
        "import seaborn as sns\n",
        "import libpysal as ps\n",
        "import numpy as np\n",
        "import numpy as np\n",
        "import libpysal as ps\n",
        "from mgwr.gwr import GWR, MGWR\n",
        "from mgwr.sel_bw import Sel_BW\n",
        "from sklearn.model_selection import train_test_split\n",
        "from sklearn.linear_model import LinearRegression\n",
        "from sklearn import metrics"
      ],
      "execution_count": null,
      "outputs": []
    },
    {
      "cell_type": "code",
      "metadata": {
        "colab": {
          "base_uri": "https://localhost:8080/"
        },
        "id": "WZqOIvc9H5Xe",
        "outputId": "149c14c1-106e-492a-a958-13cfedd3ab5c"
      },
      "source": [
        " from google.colab import drive\n",
        "drive.mount('/content/drive')"
      ],
      "execution_count": null,
      "outputs": [
        {
          "output_type": "stream",
          "name": "stdout",
          "text": [
            "Mounted at /content/drive\n"
          ]
        }
      ]
    },
    {
      "cell_type": "markdown",
      "metadata": {
        "id": "5EwKJ02bHgmp"
      },
      "source": [
        "# **GWR (T: local noise P: diversity index, pct_hisp_pop)**"
      ]
    },
    {
      "cell_type": "code",
      "metadata": {
        "id": "VLzvIxqyIp55"
      },
      "source": [
        "sound_gdf = gpd.read_file(r'/content/drive/My Drive/550/Final_Project/demographic_sounds_points_clean.geojson')"
      ],
      "execution_count": null,
      "outputs": []
    },
    {
      "cell_type": "code",
      "metadata": {
        "colab": {
          "base_uri": "https://localhost:8080/",
          "height": 400
        },
        "id": "AO3ByTG_KFcr",
        "outputId": "396c9f7f-23d0-4dfd-af90-61d32e234a46"
      },
      "source": [
        "sound_gdf.head()"
      ],
      "execution_count": null,
      "outputs": [
        {
          "output_type": "execute_result",
          "data": {
            "text/html": [
              "<div>\n",
              "<style scoped>\n",
              "    .dataframe tbody tr th:only-of-type {\n",
              "        vertical-align: middle;\n",
              "    }\n",
              "\n",
              "    .dataframe tbody tr th {\n",
              "        vertical-align: top;\n",
              "    }\n",
              "\n",
              "    .dataframe thead th {\n",
              "        text-align: right;\n",
              "    }\n",
              "</style>\n",
              "<table border=\"1\" class=\"dataframe\">\n",
              "  <thead>\n",
              "    <tr style=\"text-align: right;\">\n",
              "      <th></th>\n",
              "      <th>OID</th>\n",
              "      <th>avg_hh_size</th>\n",
              "      <th>pop_growth_rt</th>\n",
              "      <th>med_age</th>\n",
              "      <th>unemply_rate</th>\n",
              "      <th>hisp_pop</th>\n",
              "      <th>wht_pop</th>\n",
              "      <th>blk_pop</th>\n",
              "      <th>ai_na_pop</th>\n",
              "      <th>asn_pop</th>\n",
              "      <th>pi_pop</th>\n",
              "      <th>othr_pop</th>\n",
              "      <th>mtpl_pop</th>\n",
              "      <th>divst_indx</th>\n",
              "      <th>med_inc</th>\n",
              "      <th>avg_inc</th>\n",
              "      <th>local_noise</th>\n",
              "      <th>airport_noise</th>\n",
              "      <th>traffic_noise</th>\n",
              "      <th>sound_score</th>\n",
              "      <th>tot_pop_sum</th>\n",
              "      <th>pct_pop_growth_rt</th>\n",
              "      <th>pct_hisp_pop</th>\n",
              "      <th>pct_wht_pop</th>\n",
              "      <th>pct_blk_pop</th>\n",
              "      <th>pct_ai_na_pop</th>\n",
              "      <th>pct_asn_pop</th>\n",
              "      <th>pct_pi_pop</th>\n",
              "      <th>pct_othr_pop</th>\n",
              "      <th>pct_mtpl_pop</th>\n",
              "      <th>geometry</th>\n",
              "    </tr>\n",
              "  </thead>\n",
              "  <tbody>\n",
              "    <tr>\n",
              "      <th>0</th>\n",
              "      <td>1</td>\n",
              "      <td>2.76</td>\n",
              "      <td>0.27</td>\n",
              "      <td>34.8</td>\n",
              "      <td>6.2</td>\n",
              "      <td>3110</td>\n",
              "      <td>341</td>\n",
              "      <td>1783</td>\n",
              "      <td>12</td>\n",
              "      <td>204</td>\n",
              "      <td>4</td>\n",
              "      <td>24</td>\n",
              "      <td>166</td>\n",
              "      <td>91.3</td>\n",
              "      <td>46092</td>\n",
              "      <td>60922</td>\n",
              "      <td>4.0</td>\n",
              "      <td>0.0</td>\n",
              "      <td>26.0</td>\n",
              "      <td>69.0</td>\n",
              "      <td>5644</td>\n",
              "      <td>0.000048</td>\n",
              "      <td>0.551028</td>\n",
              "      <td>0.060418</td>\n",
              "      <td>0.315911</td>\n",
              "      <td>0.002126</td>\n",
              "      <td>0.036145</td>\n",
              "      <td>0.000709</td>\n",
              "      <td>0.004252</td>\n",
              "      <td>0.029412</td>\n",
              "      <td>POINT (-118.35353 34.04261)</td>\n",
              "    </tr>\n",
              "    <tr>\n",
              "      <th>1</th>\n",
              "      <td>2</td>\n",
              "      <td>2.04</td>\n",
              "      <td>0.10</td>\n",
              "      <td>45.2</td>\n",
              "      <td>3.8</td>\n",
              "      <td>280</td>\n",
              "      <td>2952</td>\n",
              "      <td>71</td>\n",
              "      <td>4</td>\n",
              "      <td>168</td>\n",
              "      <td>0</td>\n",
              "      <td>21</td>\n",
              "      <td>123</td>\n",
              "      <td>35.0</td>\n",
              "      <td>140157</td>\n",
              "      <td>208204</td>\n",
              "      <td>0.0</td>\n",
              "      <td>0.0</td>\n",
              "      <td>26.0</td>\n",
              "      <td>72.0</td>\n",
              "      <td>3619</td>\n",
              "      <td>0.000028</td>\n",
              "      <td>0.077369</td>\n",
              "      <td>0.815695</td>\n",
              "      <td>0.019619</td>\n",
              "      <td>0.001105</td>\n",
              "      <td>0.046422</td>\n",
              "      <td>0.000000</td>\n",
              "      <td>0.005803</td>\n",
              "      <td>0.033987</td>\n",
              "      <td>POINT (-118.37353 34.09685)</td>\n",
              "    </tr>\n",
              "    <tr>\n",
              "      <th>2</th>\n",
              "      <td>477</td>\n",
              "      <td>2.04</td>\n",
              "      <td>0.10</td>\n",
              "      <td>45.2</td>\n",
              "      <td>3.8</td>\n",
              "      <td>280</td>\n",
              "      <td>2952</td>\n",
              "      <td>71</td>\n",
              "      <td>4</td>\n",
              "      <td>168</td>\n",
              "      <td>0</td>\n",
              "      <td>21</td>\n",
              "      <td>123</td>\n",
              "      <td>35.0</td>\n",
              "      <td>140157</td>\n",
              "      <td>208204</td>\n",
              "      <td>0.0</td>\n",
              "      <td>0.0</td>\n",
              "      <td>23.0</td>\n",
              "      <td>76.0</td>\n",
              "      <td>3619</td>\n",
              "      <td>0.000028</td>\n",
              "      <td>0.077369</td>\n",
              "      <td>0.815695</td>\n",
              "      <td>0.019619</td>\n",
              "      <td>0.001105</td>\n",
              "      <td>0.046422</td>\n",
              "      <td>0.000000</td>\n",
              "      <td>0.005803</td>\n",
              "      <td>0.033987</td>\n",
              "      <td>POINT (-118.37863 34.10206)</td>\n",
              "    </tr>\n",
              "    <tr>\n",
              "      <th>3</th>\n",
              "      <td>1030</td>\n",
              "      <td>2.04</td>\n",
              "      <td>0.10</td>\n",
              "      <td>45.2</td>\n",
              "      <td>3.8</td>\n",
              "      <td>280</td>\n",
              "      <td>2952</td>\n",
              "      <td>71</td>\n",
              "      <td>4</td>\n",
              "      <td>168</td>\n",
              "      <td>0</td>\n",
              "      <td>21</td>\n",
              "      <td>123</td>\n",
              "      <td>35.0</td>\n",
              "      <td>140157</td>\n",
              "      <td>208204</td>\n",
              "      <td>1.0</td>\n",
              "      <td>0.0</td>\n",
              "      <td>27.0</td>\n",
              "      <td>70.0</td>\n",
              "      <td>3619</td>\n",
              "      <td>0.000028</td>\n",
              "      <td>0.077369</td>\n",
              "      <td>0.815695</td>\n",
              "      <td>0.019619</td>\n",
              "      <td>0.001105</td>\n",
              "      <td>0.046422</td>\n",
              "      <td>0.000000</td>\n",
              "      <td>0.005803</td>\n",
              "      <td>0.033987</td>\n",
              "      <td>POINT (-118.36754 34.09751)</td>\n",
              "    </tr>\n",
              "    <tr>\n",
              "      <th>4</th>\n",
              "      <td>1233</td>\n",
              "      <td>2.04</td>\n",
              "      <td>0.10</td>\n",
              "      <td>45.2</td>\n",
              "      <td>3.8</td>\n",
              "      <td>280</td>\n",
              "      <td>2952</td>\n",
              "      <td>71</td>\n",
              "      <td>4</td>\n",
              "      <td>168</td>\n",
              "      <td>0</td>\n",
              "      <td>21</td>\n",
              "      <td>123</td>\n",
              "      <td>35.0</td>\n",
              "      <td>140157</td>\n",
              "      <td>208204</td>\n",
              "      <td>0.0</td>\n",
              "      <td>0.0</td>\n",
              "      <td>23.0</td>\n",
              "      <td>76.0</td>\n",
              "      <td>3619</td>\n",
              "      <td>0.000028</td>\n",
              "      <td>0.077369</td>\n",
              "      <td>0.815695</td>\n",
              "      <td>0.019619</td>\n",
              "      <td>0.001105</td>\n",
              "      <td>0.046422</td>\n",
              "      <td>0.000000</td>\n",
              "      <td>0.005803</td>\n",
              "      <td>0.033987</td>\n",
              "      <td>POINT (-118.37418 34.10288)</td>\n",
              "    </tr>\n",
              "  </tbody>\n",
              "</table>\n",
              "</div>"
            ],
            "text/plain": [
              "    OID  avg_hh_size  ...  pct_mtpl_pop                     geometry\n",
              "0     1         2.76  ...      0.029412  POINT (-118.35353 34.04261)\n",
              "1     2         2.04  ...      0.033987  POINT (-118.37353 34.09685)\n",
              "2   477         2.04  ...      0.033987  POINT (-118.37863 34.10206)\n",
              "3  1030         2.04  ...      0.033987  POINT (-118.36754 34.09751)\n",
              "4  1233         2.04  ...      0.033987  POINT (-118.37418 34.10288)\n",
              "\n",
              "[5 rows x 31 columns]"
            ]
          },
          "metadata": {},
          "execution_count": 87
        }
      ]
    },
    {
      "cell_type": "code",
      "metadata": {
        "id": "2G_P6qmMnUU8"
      },
      "source": [
        "#last little bit fo cleaning\n",
        "mean_value = sound_gdf['pct_othr_pop'].mean()\n",
        "sound_gdf['pct_othr_pop'].fillna(value=mean_value, inplace=True)\n",
        "mean_value = sound_gdf['pct_hisp_pop'].mean()\n",
        "sound_gdf['pct_hisp_pop'].fillna(value=mean_value, inplace=True)\n",
        "mean_value = sound_gdf['pct_wht_pop'].mean()\n",
        "sound_gdf['pct_wht_pop'].fillna(value=mean_value, inplace=True)"
      ],
      "execution_count": null,
      "outputs": []
    },
    {
      "cell_type": "code",
      "metadata": {
        "id": "Fo_lojgyHl3I"
      },
      "source": [
        "#dataframe inputs\n",
        "Y = sound_gdf['local_noise'].values.reshape((-1,1))\n",
        "\n",
        "X = sound_gdf[['divst_indx','pct_hisp_pop']].values\n",
        "u = sound_gdf['geometry'].x\n",
        "v = sound_gdf['geometry'].y\n",
        "coords = list(zip(u,v))\n",
        "\n",
        "#scaling np imput\n",
        "X = (X - X.mean(axis=0)) / X.std(axis=0)\n",
        "\n",
        "Y = Y.reshape((-1,1))\n",
        "\n",
        "Y = (Y - Y.mean(axis=0)) / Y.std(axis=0)"
      ],
      "execution_count": null,
      "outputs": []
    },
    {
      "cell_type": "code",
      "metadata": {
        "colab": {
          "base_uri": "https://localhost:8080/"
        },
        "id": "wDiDRiYaLiU_",
        "outputId": "a239685c-eca6-4444-805f-a95f48817f6d"
      },
      "source": [
        "#Calibrate GWR model\n",
        "gwr_selector = Sel_BW(coords, Y, X)\n",
        "gwr_bw = gwr_selector.search(verbose=True,bw_min=82)\n",
        "print(gwr_bw)\n",
        "gwr_results = GWR(coords, Y, X, gwr_bw).fit()"
      ],
      "execution_count": null,
      "outputs": [
        {
          "output_type": "stream",
          "name": "stdout",
          "text": [
            "Bandwidth:  1006.0 , score:  6057.26\n",
            "Bandwidth:  1576.0 , score:  6230.57\n",
            "Bandwidth:  653.0 , score:  5850.61\n",
            "Bandwidth:  435.0 , score:  5651.80\n",
            "Bandwidth:  300.0 , score:  5503.65\n",
            "Bandwidth:  217.0 , score:  5397.77\n",
            "Bandwidth:  165.0 , score:  5312.58\n",
            "Bandwidth:  134.0 , score:  5238.65\n",
            "Bandwidth:  114.0 , score:  5168.32\n",
            "Bandwidth:  102.0 , score:  5108.13\n",
            "Bandwidth:  94.0 , score:  5062.20\n",
            "Bandwidth:  90.0 , score:  5036.37\n",
            "Bandwidth:  87.0 , score:  5014.53\n",
            "Bandwidth:  85.0 , score:  5000.89\n",
            "Bandwidth:  84.0 , score:  4993.44\n",
            "Bandwidth:  83.0 , score:  4986.77\n",
            "83.0\n"
          ]
        }
      ]
    },
    {
      "cell_type": "code",
      "metadata": {
        "colab": {
          "base_uri": "https://localhost:8080/"
        },
        "id": "PHrJv63BSCPt",
        "outputId": "d6807a0c-25e6-40db-85a4-55c11213717e"
      },
      "source": [
        "gwr_results.summary()"
      ],
      "execution_count": null,
      "outputs": [
        {
          "output_type": "stream",
          "name": "stdout",
          "text": [
            "===========================================================================\n",
            "Model type                                                         Gaussian\n",
            "Number of observations:                                                2500\n",
            "Number of covariates:                                                     3\n",
            "\n",
            "Global Regression Results\n",
            "---------------------------------------------------------------------------\n",
            "Residual sum of squares:                                           2000.640\n",
            "Log-likelihood:                                                   -3268.817\n",
            "AIC:                                                               6543.634\n",
            "AICc:                                                              6545.650\n",
            "BIC:                                                             -17536.003\n",
            "R2:                                                                   0.200\n",
            "Adj. R2:                                                              0.199\n",
            "\n",
            "Variable                              Est.         SE  t(Est/SE)    p-value\n",
            "------------------------------- ---------- ---------- ---------- ----------\n",
            "X0                                  -0.000      0.018     -0.000      1.000\n",
            "X1                                   0.308      0.028     11.145      0.000\n",
            "X2                                   0.165      0.028      5.989      0.000\n",
            "\n",
            "Geographically Weighted Regression (GWR) Results\n",
            "---------------------------------------------------------------------------\n",
            "Spatial kernel:                                           Adaptive bisquare\n",
            "Bandwidth used:                                                      83.000\n",
            "\n",
            "Diagnostic information\n",
            "---------------------------------------------------------------------------\n",
            "Residual sum of squares:                                            924.675\n",
            "Effective number of parameters (trace(S)):                          174.898\n",
            "Degree of freedom (n - trace(S)):                                  2325.102\n",
            "Sigma estimate:                                                       0.631\n",
            "Log-likelihood:                                                   -2304.092\n",
            "AIC:                                                               4959.980\n",
            "AICc:                                                              4986.769\n",
            "BIC:                                                               5984.420\n",
            "R2:                                                                   0.630\n",
            "Adjusted R2:                                                          0.602\n",
            "Adj. alpha (95%):                                                     0.001\n",
            "Adj. critical t value (95%):                                          3.338\n",
            "\n",
            "Summary Statistics For GWR Parameter Estimates\n",
            "---------------------------------------------------------------------------\n",
            "Variable                   Mean        STD        Min     Median        Max\n",
            "-------------------- ---------- ---------- ---------- ---------- ----------\n",
            "X0                        0.013      0.917     -4.827     -0.166      4.877\n",
            "X1                        0.255      0.714     -1.979      0.159      2.974\n",
            "X2                        0.255      0.842     -5.635      0.224      5.446\n",
            "===========================================================================\n",
            "\n"
          ]
        }
      ]
    },
    {
      "cell_type": "markdown",
      "metadata": {
        "id": "Aib2dLwYXIwh"
      },
      "source": [
        "# **General Multiple Linear Regression**"
      ]
    },
    {
      "cell_type": "code",
      "metadata": {
        "id": "hM5qLRNEXIb3"
      },
      "source": [
        "Y = sound_gdf['local_noise']\n",
        "X = sound_gdf[['divst_indx','pct_hisp_pop']]\n",
        "\n",
        "x_train, x_test, y_train, y_test = train_test_split(X, Y, test_size = 0.2, random_state = 100)\n"
      ],
      "execution_count": null,
      "outputs": []
    },
    {
      "cell_type": "code",
      "metadata": {
        "colab": {
          "base_uri": "https://localhost:8080/"
        },
        "id": "djLJp4XyX4JR",
        "outputId": "195982a0-4ab1-457e-dd33-3a3d6dde3e40"
      },
      "source": [
        "mlr = LinearRegression()\n",
        "mlr.fit(x_train, y_train)"
      ],
      "execution_count": null,
      "outputs": [
        {
          "output_type": "execute_result",
          "data": {
            "text/plain": [
              "LinearRegression()"
            ]
          },
          "metadata": {},
          "execution_count": 95
        }
      ]
    },
    {
      "cell_type": "code",
      "metadata": {
        "colab": {
          "base_uri": "https://localhost:8080/"
        },
        "id": "jHdHwFBlX8Mi",
        "outputId": "2f23a001-8157-4c6a-d6fa-50247a67ac8f"
      },
      "source": [
        "print(\"Intercept: \", mlr.intercept_)\n",
        "print(\"Coefficients:\")\n",
        "list(zip(X, mlr.coef_))"
      ],
      "execution_count": null,
      "outputs": [
        {
          "output_type": "stream",
          "name": "stdout",
          "text": [
            "Intercept:  -0.7981962540080567\n",
            "Coefficients:\n"
          ]
        },
        {
          "output_type": "execute_result",
          "data": {
            "text/plain": [
              "[('divst_indx', 0.023382907861853312), ('pct_hisp_pop', 0.8436869480951132)]"
            ]
          },
          "metadata": {},
          "execution_count": 96
        }
      ]
    },
    {
      "cell_type": "code",
      "metadata": {
        "colab": {
          "base_uri": "https://localhost:8080/"
        },
        "id": "DDofC0mFX-so",
        "outputId": "bf49b1da-04fd-4497-8c9f-b3869a109d08"
      },
      "source": [
        "#Prediction of test set\n",
        "y_pred_mlr= mlr.predict(x_test)\n",
        "#Predicted values\n",
        "print(\"Prediction for test set: {}\".format(y_pred_mlr))"
      ],
      "execution_count": null,
      "outputs": [
        {
          "output_type": "stream",
          "name": "stdout",
          "text": [
            "Prediction for test set: [ 1.2476011   0.65577429  0.43655391  0.95447531  1.6916062   0.05303671\n",
            "  1.79233563  0.10352553  0.96634912  1.50711652  0.63936209  0.63936209\n",
            "  1.20097629  1.90416492  0.63936209  1.99631754  0.75176779  0.77533341\n",
            "  0.12508142  1.11956738  0.77082642  0.01782501  1.68009413  1.44049436\n",
            "  0.84949526  1.84769165  1.31726475  0.43536572  1.43155911  0.82766848\n",
            "  1.77329902  1.80722135  1.67643161  1.58519537  1.87016894  1.80722135\n",
            "  1.47404128  0.63936209  0.03224099  1.87997218  1.97513936  0.75176779\n",
            "  1.7344778   0.59797524  1.63257079  0.12889005  1.59516563  1.69052182\n",
            "  1.54888983  1.72313567  1.68499119  0.82766848  0.63936209  1.9922892\n",
            "  1.59716464  1.61420925  1.76231042  1.02634471  0.63936209  1.59488154\n",
            "  1.11956738  1.2098244   1.16029123  1.77807706  0.3019415   1.74749137\n",
            "  0.63936209  1.94058403  1.828859    1.94770692  1.70969642  1.7124275\n",
            "  1.15977141  0.58277603  0.63936209  0.88742668  0.63936209 -0.21348399\n",
            "  1.87212674  0.12394667  1.93594807  0.07883839  1.3162211   0.43655391\n",
            "  1.96229644  1.73115395  1.78075165  0.96634912  0.05303671  1.98345729\n",
            "  1.80140454  1.45123216  1.61420925  0.64777687  1.21322477  0.64777687\n",
            "  1.10741976  0.83758323  0.30559393  2.08855379  1.74167946  1.89052002\n",
            "  1.8205804   1.917515   -0.03790662  1.63212122  1.12669709  1.88737027\n",
            "  1.95228844  1.02789762  1.93302742  0.88742668  0.96634912  1.91735236\n",
            "  1.62155096  1.17568458 -0.07892515  0.3639757   0.08053123  1.34787366\n",
            "  0.86256069  0.54612471  1.00620045  1.91735236  0.39979701  2.06474004\n",
            "  0.23755545  0.72736837  0.63936209  1.31726475  1.58042742  0.63936209\n",
            "  1.31619736 -0.19350407  2.01595174  1.17486358  1.70863158  0.75431852\n",
            "  1.72805815  0.75176779  1.60698098  0.72877444  1.46573168  0.89544953\n",
            "  1.11956738  0.42397666  0.63936209  0.63936209  1.99554148  0.5780438\n",
            "  0.67141945  1.98489178  2.03154061  0.39979701  0.85301114  0.97762364\n",
            "  1.32046005  0.07883839  0.63936209  0.8740644   1.35582673  0.86256069\n",
            "  2.03154061  0.49916008  0.63936209  1.16029123  1.70218106 -0.48542379\n",
            "  1.99769877  1.60698098  1.58708599  1.87016894 -0.48542379  1.59716464\n",
            "  0.79270909  1.27566505  1.76084352  0.65910661  0.43655391  1.55927762\n",
            "  1.29724847  0.44227792  1.17568458  1.86777706  0.84949526 -0.02307061\n",
            "  0.68576396  0.73729588  1.11956738  1.24962157  1.78483295  1.91322758\n",
            "  1.74738691  1.7091651  -0.07892515  0.46290326  1.80722135  0.80642246\n",
            "  1.19708436  0.58277603  1.40095068  0.65910661 -0.48542379  1.98234382\n",
            " -0.05035098  0.28708406  0.63936209  1.94933185  1.18209699  0.75176779\n",
            "  0.82766848  1.80890658  0.10691473  0.50203785  1.55337401  0.2028522\n",
            "  1.44049436  1.19209404 -0.21348399  0.63936209  1.37726879  0.42397666\n",
            "  1.39821435  1.63441518  0.01782501  1.17486358  0.3019415   1.67170973\n",
            "  1.96254056  0.30060399  1.82082967  0.01782501  0.43536572  0.93737566\n",
            "  1.82082967  1.02764399  1.80805904  1.23793372  0.63936209  0.74189689\n",
            "  0.64777687  1.95665388  0.23440809  0.63936209  1.86180494  1.53950879\n",
            "  1.49186583  1.60698098  1.47029888  0.59745349  1.34392958  1.32046005\n",
            "  0.96634912 -0.03790662  0.10691473  0.63936209  1.04848574  1.23304364\n",
            "  0.79592757  1.67819076  0.80642246  1.18209699  1.59716464  0.86533536\n",
            "  0.05303671  1.07094047  1.67643161  1.17468036  1.59716464  0.59745349\n",
            "  0.63936209  1.62859935  1.74134639  1.94064114  1.88333375  2.06132535\n",
            "  0.75176779  0.12394667  1.74738691  0.07883839 -0.0261044   2.08580127\n",
            "  1.68133695  0.63936209  0.07883839  1.66183348  1.79233563  1.87997218\n",
            "  1.02223177  0.90897755  0.08276825  0.84949526  1.7773149   0.97824948\n",
            "  2.1144589   1.74141813  1.81757538  1.32594849  0.28716876  1.76084352\n",
            " -0.02307061  0.69779747  1.85699031  2.0634237   0.3019415  -0.02307061\n",
            "  1.59716464  1.17468036  0.84949526  1.86761327  1.7344778   0.36195901\n",
            "  0.05391884  0.05391884  0.79802256  0.80642246  1.58042742  1.88873994\n",
            "  0.65577429 -0.48542379  1.01735886  0.72273847  0.86100977  0.97762364\n",
            "  1.72419433  0.88742668  0.65910661  2.00010134 -0.05049325  0.97762364\n",
            "  2.00565135  0.63936209  0.2028522   0.05303671  2.01306332  0.75850418\n",
            "  1.79981846  0.71487661  0.65910661  0.07883839  0.49916008  0.47567726\n",
            "  0.64777687  1.87212674  0.05391884  0.76295084  1.14552238  0.44227792\n",
            "  0.63936209  1.59716464  1.84809893  0.63936209  1.83040409  0.43536572\n",
            "  1.26191976  0.59745349  1.17568458  0.64777687  1.71758477  1.99415491\n",
            "  0.63936209  1.59716464  0.5007488  -0.0261044   0.59745349  0.88742668\n",
            "  0.99593468  1.60698098  0.92793791  1.82955289  0.90897755  1.59716464\n",
            "  0.3442015   1.82545799  2.02104583  1.69615237  0.96892053  1.82866972\n",
            "  0.62965431 -0.11514231  1.79945542  1.35582673  1.90647951  0.69779747\n",
            "  0.96634912 -0.02307061  2.1144589   0.65910661  0.67141945  0.81614385\n",
            "  1.47726132  1.50094923  0.84949526  1.88234951  1.21322477  1.89556902\n",
            "  0.36564061  1.67797899  1.66119807  1.69854237  0.27858073  1.93288084\n",
            "  0.01782501  1.55751633  1.73511906  0.03224099 -0.19350407  1.27232904\n",
            "  1.8943934   0.59797524  0.75176779  1.91735236  1.51403373  1.82308235\n",
            " -0.13506477  1.74738691  0.18282446  0.12362819  2.10749573  1.44384672\n",
            "  0.36564061  1.26217386  1.59716464  0.91489023  0.9258528   0.63936209\n",
            "  0.88742668  0.08053123 -0.0165945   1.50094923  1.78483295  0.35894735\n",
            "  0.63936209  1.02764399  1.4851527   2.03179125  0.82766848  1.73990832\n",
            "  1.89556902  1.45467219  1.97466815  0.05303671  1.11956738  0.01782501\n",
            "  0.77940969  1.78791781  1.67819076  0.75176779  1.77364185  0.29812738\n",
            "  1.10741976  0.75431852  0.63936209  1.73699277  2.06132535  0.08548111\n",
            "  1.58042742  0.96634912  1.93183688  0.2028522   0.2028522   0.63936209\n",
            "  0.64777687  1.93204453  0.38328797  1.66175311  1.49445708  0.90897755\n",
            "  0.81413644  1.51819821  1.63508088  0.04631722  0.96605802 -0.05049325\n",
            "  1.11956738  0.82766848  1.60944554  1.30216633  0.72736837  0.84373986\n",
            "  1.59716464  1.76917026  1.87081009  1.00620045  1.26163183  0.92276553\n",
            "  0.73042365  1.76141884  0.63936209  0.34184991  0.66914505  0.0550609\n",
            "  0.38553715  1.63441518  0.63875322  0.93737566  1.73599444  1.19708436\n",
            " -0.48542379  1.82617465]\n"
          ]
        }
      ]
    },
    {
      "cell_type": "code",
      "metadata": {
        "colab": {
          "base_uri": "https://localhost:8080/",
          "height": 424
        },
        "id": "-E3U9gARYAz7",
        "outputId": "17f39263-2eda-4610-e946-ba0f738ace61"
      },
      "source": [
        "mlr_diff = pd.DataFrame({'Actual value': y_test, 'Predicted value': y_pred_mlr})\n",
        "mlr_diff.head(100)"
      ],
      "execution_count": null,
      "outputs": [
        {
          "output_type": "execute_result",
          "data": {
            "text/html": [
              "<div>\n",
              "<style scoped>\n",
              "    .dataframe tbody tr th:only-of-type {\n",
              "        vertical-align: middle;\n",
              "    }\n",
              "\n",
              "    .dataframe tbody tr th {\n",
              "        vertical-align: top;\n",
              "    }\n",
              "\n",
              "    .dataframe thead th {\n",
              "        text-align: right;\n",
              "    }\n",
              "</style>\n",
              "<table border=\"1\" class=\"dataframe\">\n",
              "  <thead>\n",
              "    <tr style=\"text-align: right;\">\n",
              "      <th></th>\n",
              "      <th>Actual value</th>\n",
              "      <th>Predicted value</th>\n",
              "    </tr>\n",
              "  </thead>\n",
              "  <tbody>\n",
              "    <tr>\n",
              "      <th>1247</th>\n",
              "      <td>0.0</td>\n",
              "      <td>1.247601</td>\n",
              "    </tr>\n",
              "    <tr>\n",
              "      <th>489</th>\n",
              "      <td>0.0</td>\n",
              "      <td>0.655774</td>\n",
              "    </tr>\n",
              "    <tr>\n",
              "      <th>1161</th>\n",
              "      <td>0.0</td>\n",
              "      <td>0.436554</td>\n",
              "    </tr>\n",
              "    <tr>\n",
              "      <th>2121</th>\n",
              "      <td>5.0</td>\n",
              "      <td>0.954475</td>\n",
              "    </tr>\n",
              "    <tr>\n",
              "      <th>1780</th>\n",
              "      <td>0.0</td>\n",
              "      <td>1.691606</td>\n",
              "    </tr>\n",
              "    <tr>\n",
              "      <th>...</th>\n",
              "      <td>...</td>\n",
              "      <td>...</td>\n",
              "    </tr>\n",
              "    <tr>\n",
              "      <th>134</th>\n",
              "      <td>0.0</td>\n",
              "      <td>0.647777</td>\n",
              "    </tr>\n",
              "    <tr>\n",
              "      <th>918</th>\n",
              "      <td>0.0</td>\n",
              "      <td>1.107420</td>\n",
              "    </tr>\n",
              "    <tr>\n",
              "      <th>65</th>\n",
              "      <td>1.0</td>\n",
              "      <td>0.837583</td>\n",
              "    </tr>\n",
              "    <tr>\n",
              "      <th>2449</th>\n",
              "      <td>1.0</td>\n",
              "      <td>0.305594</td>\n",
              "    </tr>\n",
              "    <tr>\n",
              "      <th>2356</th>\n",
              "      <td>3.0</td>\n",
              "      <td>2.088554</td>\n",
              "    </tr>\n",
              "  </tbody>\n",
              "</table>\n",
              "<p>100 rows × 2 columns</p>\n",
              "</div>"
            ],
            "text/plain": [
              "      Actual value  Predicted value\n",
              "1247           0.0         1.247601\n",
              "489            0.0         0.655774\n",
              "1161           0.0         0.436554\n",
              "2121           5.0         0.954475\n",
              "1780           0.0         1.691606\n",
              "...            ...              ...\n",
              "134            0.0         0.647777\n",
              "918            0.0         1.107420\n",
              "65             1.0         0.837583\n",
              "2449           1.0         0.305594\n",
              "2356           3.0         2.088554\n",
              "\n",
              "[100 rows x 2 columns]"
            ]
          },
          "metadata": {},
          "execution_count": 98
        }
      ]
    },
    {
      "cell_type": "code",
      "metadata": {
        "colab": {
          "base_uri": "https://localhost:8080/"
        },
        "id": "wz5jDEzXYC0j",
        "outputId": "d2073f34-5ace-4386-89b1-20b986fe90e6"
      },
      "source": [
        "meanAbErr = metrics.mean_absolute_error(y_test, y_pred_mlr)\n",
        "meanSqErr = metrics.mean_squared_error(y_test, y_pred_mlr)\n",
        "rootMeanSqErr = np.sqrt(metrics.mean_squared_error(y_test, y_pred_mlr))\n",
        "print('R squared: {:.2f}'.format(mlr.score(X,Y)))\n",
        "print('Mean Absolute Error:', meanAbErr)\n",
        "print('Mean Square Error:', meanSqErr)\n",
        "print('Root Mean Square Error:', rootMeanSqErr)"
      ],
      "execution_count": null,
      "outputs": [
        {
          "output_type": "stream",
          "name": "stdout",
          "text": [
            "R squared: 0.20\n",
            "Mean Absolute Error: 0.9960499024969358\n",
            "Mean Square Error: 1.8760727890358662\n",
            "Root Mean Square Error: 1.3696980649164494\n"
          ]
        }
      ]
    }
  ]
}